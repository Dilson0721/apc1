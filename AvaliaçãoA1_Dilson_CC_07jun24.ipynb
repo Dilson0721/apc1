{
  "nbformat": 4,
  "nbformat_minor": 0,
  "metadata": {
    "colab": {
      "provenance": [],
      "authorship_tag": "ABX9TyOT4hwLCJwZN0uphCr72Q0z",
      "include_colab_link": true
    },
    "kernelspec": {
      "name": "python3",
      "display_name": "Python 3"
    },
    "language_info": {
      "name": "python"
    }
  },
  "cells": [
    {
      "cell_type": "markdown",
      "metadata": {
        "id": "view-in-github",
        "colab_type": "text"
      },
      "source": [
        "<a href=\"https://colab.research.google.com/github/Dilson0721/apc1/blob/main/Avalia%C3%A7%C3%A3oA1_Dilson_CC_07jun24.ipynb\" target=\"_parent\"><img src=\"https://colab.research.google.com/assets/colab-badge.svg\" alt=\"Open In Colab\"/></a>"
      ]
    },
    {
      "cell_type": "markdown",
      "source": [
        "Nome: Dilson Ribeiro de Souza\n",
        "\n",
        "RGM: 38240106\n",
        "\n",
        "Tema: Análise de Dados Redes Sociais\n",
        "\n"
      ],
      "metadata": {
        "id": "g1XIG6hEafB-"
      }
    },
    {
      "cell_type": "code",
      "source": [
        "#1 Apresente em tela toda a base de dados.\n",
        "\n",
        "import pandas as pd\n",
        "\n",
        "dados = {\n",
        "    'Usuário': ['João', 'Andressa', 'Henrique', 'Maria Luiza', 'Renan', 'Laura Martins','Pedro'],\n",
        "    'Plataforma': ['Twitter', 'Facebook', 'TikTok', 'Twitter', 'Facebook','TikTok','Instagram'],\n",
        "    'Conteúdo': ['Esportes', 'Jogos', 'Desafio', 'Política', 'Entretenimento','Dança','Live'],\n",
        "    'Curtidas': [120, 300, 150, 20, 500,2000, 1200],\n",
        "    'Compartilhamentos': [30, 50, 25, 2, 100,1500,500],\n",
        "    'Avaliação da Plataforma': ['Excelente', 'Bom', 'Excelente', 'Ruim', 'Excelente', 'Bom','Otimo']\n",
        "}\n",
        "\n",
        "df = pd.DataFrame(dados)\n",
        "\n",
        "df_styled = df.style.set_properties(**{'text-align': 'center'})\n",
        "\n",
        "display(df_styled)"
      ],
      "metadata": {
        "colab": {
          "base_uri": "https://localhost:8080/",
          "height": 269
        },
        "id": "XZk6UJgpHu0S",
        "outputId": "901ea9cb-0585-4746-9e71-6f70d98c4dff"
      },
      "execution_count": null,
      "outputs": [
        {
          "output_type": "display_data",
          "data": {
            "text/plain": [
              "<pandas.io.formats.style.Styler at 0x78e7702bcc40>"
            ],
            "text/html": [
              "<style type=\"text/css\">\n",
              "#T_60e87_row0_col0, #T_60e87_row0_col1, #T_60e87_row0_col2, #T_60e87_row0_col3, #T_60e87_row0_col4, #T_60e87_row0_col5, #T_60e87_row1_col0, #T_60e87_row1_col1, #T_60e87_row1_col2, #T_60e87_row1_col3, #T_60e87_row1_col4, #T_60e87_row1_col5, #T_60e87_row2_col0, #T_60e87_row2_col1, #T_60e87_row2_col2, #T_60e87_row2_col3, #T_60e87_row2_col4, #T_60e87_row2_col5, #T_60e87_row3_col0, #T_60e87_row3_col1, #T_60e87_row3_col2, #T_60e87_row3_col3, #T_60e87_row3_col4, #T_60e87_row3_col5, #T_60e87_row4_col0, #T_60e87_row4_col1, #T_60e87_row4_col2, #T_60e87_row4_col3, #T_60e87_row4_col4, #T_60e87_row4_col5, #T_60e87_row5_col0, #T_60e87_row5_col1, #T_60e87_row5_col2, #T_60e87_row5_col3, #T_60e87_row5_col4, #T_60e87_row5_col5, #T_60e87_row6_col0, #T_60e87_row6_col1, #T_60e87_row6_col2, #T_60e87_row6_col3, #T_60e87_row6_col4, #T_60e87_row6_col5 {\n",
              "  text-align: center;\n",
              "}\n",
              "</style>\n",
              "<table id=\"T_60e87\" class=\"dataframe\">\n",
              "  <thead>\n",
              "    <tr>\n",
              "      <th class=\"blank level0\" >&nbsp;</th>\n",
              "      <th id=\"T_60e87_level0_col0\" class=\"col_heading level0 col0\" >Usuário</th>\n",
              "      <th id=\"T_60e87_level0_col1\" class=\"col_heading level0 col1\" >Plataforma</th>\n",
              "      <th id=\"T_60e87_level0_col2\" class=\"col_heading level0 col2\" >Conteúdo</th>\n",
              "      <th id=\"T_60e87_level0_col3\" class=\"col_heading level0 col3\" >Curtidas</th>\n",
              "      <th id=\"T_60e87_level0_col4\" class=\"col_heading level0 col4\" >Compartilhamentos</th>\n",
              "      <th id=\"T_60e87_level0_col5\" class=\"col_heading level0 col5\" >Avaliação da Plataforma</th>\n",
              "    </tr>\n",
              "  </thead>\n",
              "  <tbody>\n",
              "    <tr>\n",
              "      <th id=\"T_60e87_level0_row0\" class=\"row_heading level0 row0\" >0</th>\n",
              "      <td id=\"T_60e87_row0_col0\" class=\"data row0 col0\" >João</td>\n",
              "      <td id=\"T_60e87_row0_col1\" class=\"data row0 col1\" >Twitter</td>\n",
              "      <td id=\"T_60e87_row0_col2\" class=\"data row0 col2\" >Esportes</td>\n",
              "      <td id=\"T_60e87_row0_col3\" class=\"data row0 col3\" >120</td>\n",
              "      <td id=\"T_60e87_row0_col4\" class=\"data row0 col4\" >30</td>\n",
              "      <td id=\"T_60e87_row0_col5\" class=\"data row0 col5\" >Excelente</td>\n",
              "    </tr>\n",
              "    <tr>\n",
              "      <th id=\"T_60e87_level0_row1\" class=\"row_heading level0 row1\" >1</th>\n",
              "      <td id=\"T_60e87_row1_col0\" class=\"data row1 col0\" >Andressa</td>\n",
              "      <td id=\"T_60e87_row1_col1\" class=\"data row1 col1\" >Facebook</td>\n",
              "      <td id=\"T_60e87_row1_col2\" class=\"data row1 col2\" >Jogos</td>\n",
              "      <td id=\"T_60e87_row1_col3\" class=\"data row1 col3\" >300</td>\n",
              "      <td id=\"T_60e87_row1_col4\" class=\"data row1 col4\" >50</td>\n",
              "      <td id=\"T_60e87_row1_col5\" class=\"data row1 col5\" >Bom</td>\n",
              "    </tr>\n",
              "    <tr>\n",
              "      <th id=\"T_60e87_level0_row2\" class=\"row_heading level0 row2\" >2</th>\n",
              "      <td id=\"T_60e87_row2_col0\" class=\"data row2 col0\" >Henrique</td>\n",
              "      <td id=\"T_60e87_row2_col1\" class=\"data row2 col1\" >TikTok</td>\n",
              "      <td id=\"T_60e87_row2_col2\" class=\"data row2 col2\" >Desafio</td>\n",
              "      <td id=\"T_60e87_row2_col3\" class=\"data row2 col3\" >150</td>\n",
              "      <td id=\"T_60e87_row2_col4\" class=\"data row2 col4\" >25</td>\n",
              "      <td id=\"T_60e87_row2_col5\" class=\"data row2 col5\" >Excelente</td>\n",
              "    </tr>\n",
              "    <tr>\n",
              "      <th id=\"T_60e87_level0_row3\" class=\"row_heading level0 row3\" >3</th>\n",
              "      <td id=\"T_60e87_row3_col0\" class=\"data row3 col0\" >Maria Luiza</td>\n",
              "      <td id=\"T_60e87_row3_col1\" class=\"data row3 col1\" >Twitter</td>\n",
              "      <td id=\"T_60e87_row3_col2\" class=\"data row3 col2\" >Política</td>\n",
              "      <td id=\"T_60e87_row3_col3\" class=\"data row3 col3\" >20</td>\n",
              "      <td id=\"T_60e87_row3_col4\" class=\"data row3 col4\" >2</td>\n",
              "      <td id=\"T_60e87_row3_col5\" class=\"data row3 col5\" >Ruim</td>\n",
              "    </tr>\n",
              "    <tr>\n",
              "      <th id=\"T_60e87_level0_row4\" class=\"row_heading level0 row4\" >4</th>\n",
              "      <td id=\"T_60e87_row4_col0\" class=\"data row4 col0\" >Renan</td>\n",
              "      <td id=\"T_60e87_row4_col1\" class=\"data row4 col1\" >Facebook</td>\n",
              "      <td id=\"T_60e87_row4_col2\" class=\"data row4 col2\" >Entretenimento</td>\n",
              "      <td id=\"T_60e87_row4_col3\" class=\"data row4 col3\" >500</td>\n",
              "      <td id=\"T_60e87_row4_col4\" class=\"data row4 col4\" >100</td>\n",
              "      <td id=\"T_60e87_row4_col5\" class=\"data row4 col5\" >Excelente</td>\n",
              "    </tr>\n",
              "    <tr>\n",
              "      <th id=\"T_60e87_level0_row5\" class=\"row_heading level0 row5\" >5</th>\n",
              "      <td id=\"T_60e87_row5_col0\" class=\"data row5 col0\" >Laura Martins</td>\n",
              "      <td id=\"T_60e87_row5_col1\" class=\"data row5 col1\" >TikTok</td>\n",
              "      <td id=\"T_60e87_row5_col2\" class=\"data row5 col2\" >Dança</td>\n",
              "      <td id=\"T_60e87_row5_col3\" class=\"data row5 col3\" >2000</td>\n",
              "      <td id=\"T_60e87_row5_col4\" class=\"data row5 col4\" >1500</td>\n",
              "      <td id=\"T_60e87_row5_col5\" class=\"data row5 col5\" >Bom</td>\n",
              "    </tr>\n",
              "    <tr>\n",
              "      <th id=\"T_60e87_level0_row6\" class=\"row_heading level0 row6\" >6</th>\n",
              "      <td id=\"T_60e87_row6_col0\" class=\"data row6 col0\" >Pedro</td>\n",
              "      <td id=\"T_60e87_row6_col1\" class=\"data row6 col1\" >Instagram</td>\n",
              "      <td id=\"T_60e87_row6_col2\" class=\"data row6 col2\" >Live</td>\n",
              "      <td id=\"T_60e87_row6_col3\" class=\"data row6 col3\" >1200</td>\n",
              "      <td id=\"T_60e87_row6_col4\" class=\"data row6 col4\" >500</td>\n",
              "      <td id=\"T_60e87_row6_col5\" class=\"data row6 col5\" >Otimo</td>\n",
              "    </tr>\n",
              "  </tbody>\n",
              "</table>\n"
            ]
          },
          "metadata": {}
        }
      ]
    },
    {
      "cell_type": "code",
      "source": [
        "# 2. Apresente o tamanho do seu dataframe (quantas linhas X colunas).\n",
        "print(\"Tamanho do DataFrame:\", df.shape)"
      ],
      "metadata": {
        "colab": {
          "base_uri": "https://localhost:8080/"
        },
        "id": "FPvrB3J8N7KE",
        "outputId": "f5e9480e-89bd-4879-832d-c47aaf86eb3d"
      },
      "execution_count": null,
      "outputs": [
        {
          "output_type": "stream",
          "name": "stdout",
          "text": [
            "Tamanho do DataFrame: (7, 6)\n"
          ]
        }
      ]
    },
    {
      "cell_type": "code",
      "source": [
        "# 3. Acesse a linha (x) e apresente em tela todas as características do item.\n",
        "row_index = 2\n",
        "temp_df = pd.DataFrame(df.loc[row_index]).T\n",
        "\n",
        "styled_row = temp_df.style.set_properties(**{'text-align': 'center'})\n",
        "\n",
        "display(styled_row)"
      ],
      "metadata": {
        "colab": {
          "base_uri": "https://localhost:8080/",
          "height": 81
        },
        "id": "QOrpgqdlTB13",
        "outputId": "b5d0356e-3787-4d21-fb88-ed3be43c048f"
      },
      "execution_count": null,
      "outputs": [
        {
          "output_type": "display_data",
          "data": {
            "text/plain": [
              "<pandas.io.formats.style.Styler at 0x78e7702bc970>"
            ],
            "text/html": [
              "<style type=\"text/css\">\n",
              "#T_bbc9f_row0_col0, #T_bbc9f_row0_col1, #T_bbc9f_row0_col2, #T_bbc9f_row0_col3, #T_bbc9f_row0_col4, #T_bbc9f_row0_col5 {\n",
              "  text-align: center;\n",
              "}\n",
              "</style>\n",
              "<table id=\"T_bbc9f\" class=\"dataframe\">\n",
              "  <thead>\n",
              "    <tr>\n",
              "      <th class=\"blank level0\" >&nbsp;</th>\n",
              "      <th id=\"T_bbc9f_level0_col0\" class=\"col_heading level0 col0\" >Usuário</th>\n",
              "      <th id=\"T_bbc9f_level0_col1\" class=\"col_heading level0 col1\" >Plataforma</th>\n",
              "      <th id=\"T_bbc9f_level0_col2\" class=\"col_heading level0 col2\" >Conteúdo</th>\n",
              "      <th id=\"T_bbc9f_level0_col3\" class=\"col_heading level0 col3\" >Curtidas</th>\n",
              "      <th id=\"T_bbc9f_level0_col4\" class=\"col_heading level0 col4\" >Compartilhamentos</th>\n",
              "      <th id=\"T_bbc9f_level0_col5\" class=\"col_heading level0 col5\" >Avaliação da Plataforma</th>\n",
              "    </tr>\n",
              "  </thead>\n",
              "  <tbody>\n",
              "    <tr>\n",
              "      <th id=\"T_bbc9f_level0_row0\" class=\"row_heading level0 row0\" >2</th>\n",
              "      <td id=\"T_bbc9f_row0_col0\" class=\"data row0 col0\" >Henrique</td>\n",
              "      <td id=\"T_bbc9f_row0_col1\" class=\"data row0 col1\" >TikTok</td>\n",
              "      <td id=\"T_bbc9f_row0_col2\" class=\"data row0 col2\" >Desafio</td>\n",
              "      <td id=\"T_bbc9f_row0_col3\" class=\"data row0 col3\" >150</td>\n",
              "      <td id=\"T_bbc9f_row0_col4\" class=\"data row0 col4\" >25</td>\n",
              "      <td id=\"T_bbc9f_row0_col5\" class=\"data row0 col5\" >Excelente</td>\n",
              "    </tr>\n",
              "  </tbody>\n",
              "</table>\n"
            ]
          },
          "metadata": {}
        }
      ]
    },
    {
      "cell_type": "code",
      "source": [
        "# 4. Verifique se o dataframe está vazio.\n",
        "print(\"DataFrame está vazio?\", df.empty)"
      ],
      "metadata": {
        "colab": {
          "base_uri": "https://localhost:8080/"
        },
        "id": "37qWwhbDVdas",
        "outputId": "1eb39363-90a4-487b-d150-46a116fcf28b"
      },
      "execution_count": null,
      "outputs": [
        {
          "output_type": "stream",
          "name": "stdout",
          "text": [
            "DataFrame está vazio? False\n"
          ]
        }
      ]
    },
    {
      "cell_type": "code",
      "source": [
        "# 5. Apresente em tela os 5 primeiros registros da base de dados.\n",
        "styled_df = df.head().style.set_table_styles(\n",
        "    [{'selector': 'td', 'props': [('text-align', 'center')]}]\n",
        ")\n",
        "display(styled_df)"
      ],
      "metadata": {
        "colab": {
          "base_uri": "https://localhost:8080/",
          "height": 206
        },
        "id": "a9ZTACTnWdNr",
        "outputId": "2e74eeda-9399-404b-ab69-69d12699584b"
      },
      "execution_count": null,
      "outputs": [
        {
          "output_type": "display_data",
          "data": {
            "text/plain": [
              "<pandas.io.formats.style.Styler at 0x78e7702bf370>"
            ],
            "text/html": [
              "<style type=\"text/css\">\n",
              "#T_de7a1 td {\n",
              "  text-align: center;\n",
              "}\n",
              "</style>\n",
              "<table id=\"T_de7a1\" class=\"dataframe\">\n",
              "  <thead>\n",
              "    <tr>\n",
              "      <th class=\"blank level0\" >&nbsp;</th>\n",
              "      <th id=\"T_de7a1_level0_col0\" class=\"col_heading level0 col0\" >Usuário</th>\n",
              "      <th id=\"T_de7a1_level0_col1\" class=\"col_heading level0 col1\" >Plataforma</th>\n",
              "      <th id=\"T_de7a1_level0_col2\" class=\"col_heading level0 col2\" >Conteúdo</th>\n",
              "      <th id=\"T_de7a1_level0_col3\" class=\"col_heading level0 col3\" >Curtidas</th>\n",
              "      <th id=\"T_de7a1_level0_col4\" class=\"col_heading level0 col4\" >Compartilhamentos</th>\n",
              "      <th id=\"T_de7a1_level0_col5\" class=\"col_heading level0 col5\" >Avaliação da Plataforma</th>\n",
              "    </tr>\n",
              "  </thead>\n",
              "  <tbody>\n",
              "    <tr>\n",
              "      <th id=\"T_de7a1_level0_row0\" class=\"row_heading level0 row0\" >0</th>\n",
              "      <td id=\"T_de7a1_row0_col0\" class=\"data row0 col0\" >João</td>\n",
              "      <td id=\"T_de7a1_row0_col1\" class=\"data row0 col1\" >Twitter</td>\n",
              "      <td id=\"T_de7a1_row0_col2\" class=\"data row0 col2\" >Esportes</td>\n",
              "      <td id=\"T_de7a1_row0_col3\" class=\"data row0 col3\" >120</td>\n",
              "      <td id=\"T_de7a1_row0_col4\" class=\"data row0 col4\" >30</td>\n",
              "      <td id=\"T_de7a1_row0_col5\" class=\"data row0 col5\" >Excelente</td>\n",
              "    </tr>\n",
              "    <tr>\n",
              "      <th id=\"T_de7a1_level0_row1\" class=\"row_heading level0 row1\" >1</th>\n",
              "      <td id=\"T_de7a1_row1_col0\" class=\"data row1 col0\" >Andressa</td>\n",
              "      <td id=\"T_de7a1_row1_col1\" class=\"data row1 col1\" >Facebook</td>\n",
              "      <td id=\"T_de7a1_row1_col2\" class=\"data row1 col2\" >Jogos</td>\n",
              "      <td id=\"T_de7a1_row1_col3\" class=\"data row1 col3\" >300</td>\n",
              "      <td id=\"T_de7a1_row1_col4\" class=\"data row1 col4\" >50</td>\n",
              "      <td id=\"T_de7a1_row1_col5\" class=\"data row1 col5\" >Bom</td>\n",
              "    </tr>\n",
              "    <tr>\n",
              "      <th id=\"T_de7a1_level0_row2\" class=\"row_heading level0 row2\" >2</th>\n",
              "      <td id=\"T_de7a1_row2_col0\" class=\"data row2 col0\" >Henrique</td>\n",
              "      <td id=\"T_de7a1_row2_col1\" class=\"data row2 col1\" >TikTok</td>\n",
              "      <td id=\"T_de7a1_row2_col2\" class=\"data row2 col2\" >Desafio</td>\n",
              "      <td id=\"T_de7a1_row2_col3\" class=\"data row2 col3\" >150</td>\n",
              "      <td id=\"T_de7a1_row2_col4\" class=\"data row2 col4\" >25</td>\n",
              "      <td id=\"T_de7a1_row2_col5\" class=\"data row2 col5\" >Excelente</td>\n",
              "    </tr>\n",
              "    <tr>\n",
              "      <th id=\"T_de7a1_level0_row3\" class=\"row_heading level0 row3\" >3</th>\n",
              "      <td id=\"T_de7a1_row3_col0\" class=\"data row3 col0\" >Maria Luiza</td>\n",
              "      <td id=\"T_de7a1_row3_col1\" class=\"data row3 col1\" >Twitter</td>\n",
              "      <td id=\"T_de7a1_row3_col2\" class=\"data row3 col2\" >Política</td>\n",
              "      <td id=\"T_de7a1_row3_col3\" class=\"data row3 col3\" >20</td>\n",
              "      <td id=\"T_de7a1_row3_col4\" class=\"data row3 col4\" >2</td>\n",
              "      <td id=\"T_de7a1_row3_col5\" class=\"data row3 col5\" >Ruim</td>\n",
              "    </tr>\n",
              "    <tr>\n",
              "      <th id=\"T_de7a1_level0_row4\" class=\"row_heading level0 row4\" >4</th>\n",
              "      <td id=\"T_de7a1_row4_col0\" class=\"data row4 col0\" >Renan</td>\n",
              "      <td id=\"T_de7a1_row4_col1\" class=\"data row4 col1\" >Facebook</td>\n",
              "      <td id=\"T_de7a1_row4_col2\" class=\"data row4 col2\" >Entretenimento</td>\n",
              "      <td id=\"T_de7a1_row4_col3\" class=\"data row4 col3\" >500</td>\n",
              "      <td id=\"T_de7a1_row4_col4\" class=\"data row4 col4\" >100</td>\n",
              "      <td id=\"T_de7a1_row4_col5\" class=\"data row4 col5\" >Excelente</td>\n",
              "    </tr>\n",
              "  </tbody>\n",
              "</table>\n"
            ]
          },
          "metadata": {}
        }
      ]
    },
    {
      "cell_type": "code",
      "source": [
        "# 6. Exclua um item (linha) de sua base de dados.\n",
        "df_excluido = df.drop(1)\n",
        "\n",
        "styled_df_excluido = df_excluido.style.set_table_styles(\n",
        "    [{'selector': 'td', 'props': [('text-align', 'center')]}]\n",
        ")\n",
        "display(styled_df_excluido)"
      ],
      "metadata": {
        "colab": {
          "base_uri": "https://localhost:8080/",
          "height": 238
        },
        "id": "uM_4GP9aZl0b",
        "outputId": "d0fd7926-11c3-4821-af0a-1b8d113ce5d2"
      },
      "execution_count": null,
      "outputs": [
        {
          "output_type": "display_data",
          "data": {
            "text/plain": [
              "<pandas.io.formats.style.Styler at 0x78e7702be5c0>"
            ],
            "text/html": [
              "<style type=\"text/css\">\n",
              "#T_de992 td {\n",
              "  text-align: center;\n",
              "}\n",
              "</style>\n",
              "<table id=\"T_de992\" class=\"dataframe\">\n",
              "  <thead>\n",
              "    <tr>\n",
              "      <th class=\"blank level0\" >&nbsp;</th>\n",
              "      <th id=\"T_de992_level0_col0\" class=\"col_heading level0 col0\" >Usuário</th>\n",
              "      <th id=\"T_de992_level0_col1\" class=\"col_heading level0 col1\" >Plataforma</th>\n",
              "      <th id=\"T_de992_level0_col2\" class=\"col_heading level0 col2\" >Conteúdo</th>\n",
              "      <th id=\"T_de992_level0_col3\" class=\"col_heading level0 col3\" >Curtidas</th>\n",
              "      <th id=\"T_de992_level0_col4\" class=\"col_heading level0 col4\" >Compartilhamentos</th>\n",
              "      <th id=\"T_de992_level0_col5\" class=\"col_heading level0 col5\" >Avaliação da Plataforma</th>\n",
              "    </tr>\n",
              "  </thead>\n",
              "  <tbody>\n",
              "    <tr>\n",
              "      <th id=\"T_de992_level0_row0\" class=\"row_heading level0 row0\" >0</th>\n",
              "      <td id=\"T_de992_row0_col0\" class=\"data row0 col0\" >João</td>\n",
              "      <td id=\"T_de992_row0_col1\" class=\"data row0 col1\" >Twitter</td>\n",
              "      <td id=\"T_de992_row0_col2\" class=\"data row0 col2\" >Esportes</td>\n",
              "      <td id=\"T_de992_row0_col3\" class=\"data row0 col3\" >120</td>\n",
              "      <td id=\"T_de992_row0_col4\" class=\"data row0 col4\" >30</td>\n",
              "      <td id=\"T_de992_row0_col5\" class=\"data row0 col5\" >Excelente</td>\n",
              "    </tr>\n",
              "    <tr>\n",
              "      <th id=\"T_de992_level0_row1\" class=\"row_heading level0 row1\" >2</th>\n",
              "      <td id=\"T_de992_row1_col0\" class=\"data row1 col0\" >Henrique</td>\n",
              "      <td id=\"T_de992_row1_col1\" class=\"data row1 col1\" >TikTok</td>\n",
              "      <td id=\"T_de992_row1_col2\" class=\"data row1 col2\" >Desafio</td>\n",
              "      <td id=\"T_de992_row1_col3\" class=\"data row1 col3\" >150</td>\n",
              "      <td id=\"T_de992_row1_col4\" class=\"data row1 col4\" >25</td>\n",
              "      <td id=\"T_de992_row1_col5\" class=\"data row1 col5\" >Excelente</td>\n",
              "    </tr>\n",
              "    <tr>\n",
              "      <th id=\"T_de992_level0_row2\" class=\"row_heading level0 row2\" >3</th>\n",
              "      <td id=\"T_de992_row2_col0\" class=\"data row2 col0\" >Maria Luiza</td>\n",
              "      <td id=\"T_de992_row2_col1\" class=\"data row2 col1\" >Twitter</td>\n",
              "      <td id=\"T_de992_row2_col2\" class=\"data row2 col2\" >Política</td>\n",
              "      <td id=\"T_de992_row2_col3\" class=\"data row2 col3\" >20</td>\n",
              "      <td id=\"T_de992_row2_col4\" class=\"data row2 col4\" >2</td>\n",
              "      <td id=\"T_de992_row2_col5\" class=\"data row2 col5\" >Ruim</td>\n",
              "    </tr>\n",
              "    <tr>\n",
              "      <th id=\"T_de992_level0_row3\" class=\"row_heading level0 row3\" >4</th>\n",
              "      <td id=\"T_de992_row3_col0\" class=\"data row3 col0\" >Renan</td>\n",
              "      <td id=\"T_de992_row3_col1\" class=\"data row3 col1\" >Facebook</td>\n",
              "      <td id=\"T_de992_row3_col2\" class=\"data row3 col2\" >Entretenimento</td>\n",
              "      <td id=\"T_de992_row3_col3\" class=\"data row3 col3\" >500</td>\n",
              "      <td id=\"T_de992_row3_col4\" class=\"data row3 col4\" >100</td>\n",
              "      <td id=\"T_de992_row3_col5\" class=\"data row3 col5\" >Excelente</td>\n",
              "    </tr>\n",
              "    <tr>\n",
              "      <th id=\"T_de992_level0_row4\" class=\"row_heading level0 row4\" >5</th>\n",
              "      <td id=\"T_de992_row4_col0\" class=\"data row4 col0\" >Laura Martins</td>\n",
              "      <td id=\"T_de992_row4_col1\" class=\"data row4 col1\" >TikTok</td>\n",
              "      <td id=\"T_de992_row4_col2\" class=\"data row4 col2\" >Dança</td>\n",
              "      <td id=\"T_de992_row4_col3\" class=\"data row4 col3\" >2000</td>\n",
              "      <td id=\"T_de992_row4_col4\" class=\"data row4 col4\" >1500</td>\n",
              "      <td id=\"T_de992_row4_col5\" class=\"data row4 col5\" >Bom</td>\n",
              "    </tr>\n",
              "    <tr>\n",
              "      <th id=\"T_de992_level0_row5\" class=\"row_heading level0 row5\" >6</th>\n",
              "      <td id=\"T_de992_row5_col0\" class=\"data row5 col0\" >Pedro</td>\n",
              "      <td id=\"T_de992_row5_col1\" class=\"data row5 col1\" >Instagram</td>\n",
              "      <td id=\"T_de992_row5_col2\" class=\"data row5 col2\" >Live</td>\n",
              "      <td id=\"T_de992_row5_col3\" class=\"data row5 col3\" >1200</td>\n",
              "      <td id=\"T_de992_row5_col4\" class=\"data row5 col4\" >500</td>\n",
              "      <td id=\"T_de992_row5_col5\" class=\"data row5 col5\" >Otimo</td>\n",
              "    </tr>\n",
              "  </tbody>\n",
              "</table>\n"
            ]
          },
          "metadata": {}
        }
      ]
    },
    {
      "cell_type": "code",
      "source": [
        "# 7. Adicione um item (linha) na sua base de dados.\n",
        "df = pd.DataFrame(dados)\n",
        "\n",
        "nova_linha = {'Usuário': 'Thiago Reis',\n",
        "              'Plataforma': 'YouTube',\n",
        "              'Conteúdo': 'Vlogs',\n",
        "              'Curtidas': 150000,\n",
        "              'Compartilhamentos': 7500,\n",
        "              'Avaliação da Plataforma': 'Ótimo'}\n",
        "\n",
        "df.loc[len(df)] = nova_linha\n",
        "\n",
        "df_styled = df.style.set_properties(**{'text-align': 'center'})\n",
        "display(df_styled)"
      ],
      "metadata": {
        "colab": {
          "base_uri": "https://localhost:8080/",
          "height": 300
        },
        "id": "fX-NtzrxaxKk",
        "outputId": "9c744451-2c5e-47d6-9ef2-07e0e93cec5f"
      },
      "execution_count": null,
      "outputs": [
        {
          "output_type": "display_data",
          "data": {
            "text/plain": [
              "<pandas.io.formats.style.Styler at 0x78e7702bd600>"
            ],
            "text/html": [
              "<style type=\"text/css\">\n",
              "#T_fdece_row0_col0, #T_fdece_row0_col1, #T_fdece_row0_col2, #T_fdece_row0_col3, #T_fdece_row0_col4, #T_fdece_row0_col5, #T_fdece_row1_col0, #T_fdece_row1_col1, #T_fdece_row1_col2, #T_fdece_row1_col3, #T_fdece_row1_col4, #T_fdece_row1_col5, #T_fdece_row2_col0, #T_fdece_row2_col1, #T_fdece_row2_col2, #T_fdece_row2_col3, #T_fdece_row2_col4, #T_fdece_row2_col5, #T_fdece_row3_col0, #T_fdece_row3_col1, #T_fdece_row3_col2, #T_fdece_row3_col3, #T_fdece_row3_col4, #T_fdece_row3_col5, #T_fdece_row4_col0, #T_fdece_row4_col1, #T_fdece_row4_col2, #T_fdece_row4_col3, #T_fdece_row4_col4, #T_fdece_row4_col5, #T_fdece_row5_col0, #T_fdece_row5_col1, #T_fdece_row5_col2, #T_fdece_row5_col3, #T_fdece_row5_col4, #T_fdece_row5_col5, #T_fdece_row6_col0, #T_fdece_row6_col1, #T_fdece_row6_col2, #T_fdece_row6_col3, #T_fdece_row6_col4, #T_fdece_row6_col5, #T_fdece_row7_col0, #T_fdece_row7_col1, #T_fdece_row7_col2, #T_fdece_row7_col3, #T_fdece_row7_col4, #T_fdece_row7_col5 {\n",
              "  text-align: center;\n",
              "}\n",
              "</style>\n",
              "<table id=\"T_fdece\" class=\"dataframe\">\n",
              "  <thead>\n",
              "    <tr>\n",
              "      <th class=\"blank level0\" >&nbsp;</th>\n",
              "      <th id=\"T_fdece_level0_col0\" class=\"col_heading level0 col0\" >Usuário</th>\n",
              "      <th id=\"T_fdece_level0_col1\" class=\"col_heading level0 col1\" >Plataforma</th>\n",
              "      <th id=\"T_fdece_level0_col2\" class=\"col_heading level0 col2\" >Conteúdo</th>\n",
              "      <th id=\"T_fdece_level0_col3\" class=\"col_heading level0 col3\" >Curtidas</th>\n",
              "      <th id=\"T_fdece_level0_col4\" class=\"col_heading level0 col4\" >Compartilhamentos</th>\n",
              "      <th id=\"T_fdece_level0_col5\" class=\"col_heading level0 col5\" >Avaliação da Plataforma</th>\n",
              "    </tr>\n",
              "  </thead>\n",
              "  <tbody>\n",
              "    <tr>\n",
              "      <th id=\"T_fdece_level0_row0\" class=\"row_heading level0 row0\" >0</th>\n",
              "      <td id=\"T_fdece_row0_col0\" class=\"data row0 col0\" >João</td>\n",
              "      <td id=\"T_fdece_row0_col1\" class=\"data row0 col1\" >Twitter</td>\n",
              "      <td id=\"T_fdece_row0_col2\" class=\"data row0 col2\" >Esportes</td>\n",
              "      <td id=\"T_fdece_row0_col3\" class=\"data row0 col3\" >120</td>\n",
              "      <td id=\"T_fdece_row0_col4\" class=\"data row0 col4\" >30</td>\n",
              "      <td id=\"T_fdece_row0_col5\" class=\"data row0 col5\" >Excelente</td>\n",
              "    </tr>\n",
              "    <tr>\n",
              "      <th id=\"T_fdece_level0_row1\" class=\"row_heading level0 row1\" >1</th>\n",
              "      <td id=\"T_fdece_row1_col0\" class=\"data row1 col0\" >Andressa</td>\n",
              "      <td id=\"T_fdece_row1_col1\" class=\"data row1 col1\" >Facebook</td>\n",
              "      <td id=\"T_fdece_row1_col2\" class=\"data row1 col2\" >Jogos</td>\n",
              "      <td id=\"T_fdece_row1_col3\" class=\"data row1 col3\" >300</td>\n",
              "      <td id=\"T_fdece_row1_col4\" class=\"data row1 col4\" >50</td>\n",
              "      <td id=\"T_fdece_row1_col5\" class=\"data row1 col5\" >Bom</td>\n",
              "    </tr>\n",
              "    <tr>\n",
              "      <th id=\"T_fdece_level0_row2\" class=\"row_heading level0 row2\" >2</th>\n",
              "      <td id=\"T_fdece_row2_col0\" class=\"data row2 col0\" >Henrique</td>\n",
              "      <td id=\"T_fdece_row2_col1\" class=\"data row2 col1\" >TikTok</td>\n",
              "      <td id=\"T_fdece_row2_col2\" class=\"data row2 col2\" >Desafio</td>\n",
              "      <td id=\"T_fdece_row2_col3\" class=\"data row2 col3\" >150</td>\n",
              "      <td id=\"T_fdece_row2_col4\" class=\"data row2 col4\" >25</td>\n",
              "      <td id=\"T_fdece_row2_col5\" class=\"data row2 col5\" >Excelente</td>\n",
              "    </tr>\n",
              "    <tr>\n",
              "      <th id=\"T_fdece_level0_row3\" class=\"row_heading level0 row3\" >3</th>\n",
              "      <td id=\"T_fdece_row3_col0\" class=\"data row3 col0\" >Maria Luiza</td>\n",
              "      <td id=\"T_fdece_row3_col1\" class=\"data row3 col1\" >Twitter</td>\n",
              "      <td id=\"T_fdece_row3_col2\" class=\"data row3 col2\" >Política</td>\n",
              "      <td id=\"T_fdece_row3_col3\" class=\"data row3 col3\" >20</td>\n",
              "      <td id=\"T_fdece_row3_col4\" class=\"data row3 col4\" >2</td>\n",
              "      <td id=\"T_fdece_row3_col5\" class=\"data row3 col5\" >Ruim</td>\n",
              "    </tr>\n",
              "    <tr>\n",
              "      <th id=\"T_fdece_level0_row4\" class=\"row_heading level0 row4\" >4</th>\n",
              "      <td id=\"T_fdece_row4_col0\" class=\"data row4 col0\" >Renan</td>\n",
              "      <td id=\"T_fdece_row4_col1\" class=\"data row4 col1\" >Facebook</td>\n",
              "      <td id=\"T_fdece_row4_col2\" class=\"data row4 col2\" >Entretenimento</td>\n",
              "      <td id=\"T_fdece_row4_col3\" class=\"data row4 col3\" >500</td>\n",
              "      <td id=\"T_fdece_row4_col4\" class=\"data row4 col4\" >100</td>\n",
              "      <td id=\"T_fdece_row4_col5\" class=\"data row4 col5\" >Excelente</td>\n",
              "    </tr>\n",
              "    <tr>\n",
              "      <th id=\"T_fdece_level0_row5\" class=\"row_heading level0 row5\" >5</th>\n",
              "      <td id=\"T_fdece_row5_col0\" class=\"data row5 col0\" >Laura Martins</td>\n",
              "      <td id=\"T_fdece_row5_col1\" class=\"data row5 col1\" >TikTok</td>\n",
              "      <td id=\"T_fdece_row5_col2\" class=\"data row5 col2\" >Dança</td>\n",
              "      <td id=\"T_fdece_row5_col3\" class=\"data row5 col3\" >2000</td>\n",
              "      <td id=\"T_fdece_row5_col4\" class=\"data row5 col4\" >1500</td>\n",
              "      <td id=\"T_fdece_row5_col5\" class=\"data row5 col5\" >Bom</td>\n",
              "    </tr>\n",
              "    <tr>\n",
              "      <th id=\"T_fdece_level0_row6\" class=\"row_heading level0 row6\" >6</th>\n",
              "      <td id=\"T_fdece_row6_col0\" class=\"data row6 col0\" >Pedro</td>\n",
              "      <td id=\"T_fdece_row6_col1\" class=\"data row6 col1\" >Instagram</td>\n",
              "      <td id=\"T_fdece_row6_col2\" class=\"data row6 col2\" >Live</td>\n",
              "      <td id=\"T_fdece_row6_col3\" class=\"data row6 col3\" >1200</td>\n",
              "      <td id=\"T_fdece_row6_col4\" class=\"data row6 col4\" >500</td>\n",
              "      <td id=\"T_fdece_row6_col5\" class=\"data row6 col5\" >Otimo</td>\n",
              "    </tr>\n",
              "    <tr>\n",
              "      <th id=\"T_fdece_level0_row7\" class=\"row_heading level0 row7\" >7</th>\n",
              "      <td id=\"T_fdece_row7_col0\" class=\"data row7 col0\" >Thiago Reis</td>\n",
              "      <td id=\"T_fdece_row7_col1\" class=\"data row7 col1\" >YouTube</td>\n",
              "      <td id=\"T_fdece_row7_col2\" class=\"data row7 col2\" >Vlogs</td>\n",
              "      <td id=\"T_fdece_row7_col3\" class=\"data row7 col3\" >150000</td>\n",
              "      <td id=\"T_fdece_row7_col4\" class=\"data row7 col4\" >7500</td>\n",
              "      <td id=\"T_fdece_row7_col5\" class=\"data row7 col5\" >Ótimo</td>\n",
              "    </tr>\n",
              "  </tbody>\n",
              "</table>\n"
            ]
          },
          "metadata": {}
        }
      ]
    },
    {
      "cell_type": "code",
      "source": [
        "# 8. Transponha a coluna para a linha em sua base de dados.\n",
        "df_pivot = df.pivot_table(index=None, columns='Usuário', aggfunc='first')\n",
        "\n",
        "styled_df_pivot = df_pivot.style.set_table_styles(\n",
        "    [{'selector': 'td', 'props': [('text-align', 'center')]}]\n",
        ")\n",
        "\n",
        "display(styled_df_pivot)"
      ],
      "metadata": {
        "colab": {
          "base_uri": "https://localhost:8080/",
          "height": 206
        },
        "id": "rlO46Zfut6-Z",
        "outputId": "632653f0-fb67-40ee-82b2-9be2457efabe"
      },
      "execution_count": null,
      "outputs": [
        {
          "output_type": "display_data",
          "data": {
            "text/plain": [
              "<pandas.io.formats.style.Styler at 0x78e7702be020>"
            ],
            "text/html": [
              "<style type=\"text/css\">\n",
              "#T_5251e td {\n",
              "  text-align: center;\n",
              "}\n",
              "</style>\n",
              "<table id=\"T_5251e\" class=\"dataframe\">\n",
              "  <thead>\n",
              "    <tr>\n",
              "      <th class=\"index_name level0\" >Usuário</th>\n",
              "      <th id=\"T_5251e_level0_col0\" class=\"col_heading level0 col0\" >Andressa</th>\n",
              "      <th id=\"T_5251e_level0_col1\" class=\"col_heading level0 col1\" >Henrique</th>\n",
              "      <th id=\"T_5251e_level0_col2\" class=\"col_heading level0 col2\" >João</th>\n",
              "      <th id=\"T_5251e_level0_col3\" class=\"col_heading level0 col3\" >Laura Martins</th>\n",
              "      <th id=\"T_5251e_level0_col4\" class=\"col_heading level0 col4\" >Maria Luiza</th>\n",
              "      <th id=\"T_5251e_level0_col5\" class=\"col_heading level0 col5\" >Pedro</th>\n",
              "      <th id=\"T_5251e_level0_col6\" class=\"col_heading level0 col6\" >Renan</th>\n",
              "      <th id=\"T_5251e_level0_col7\" class=\"col_heading level0 col7\" >Thiago Reis</th>\n",
              "    </tr>\n",
              "  </thead>\n",
              "  <tbody>\n",
              "    <tr>\n",
              "      <th id=\"T_5251e_level0_row0\" class=\"row_heading level0 row0\" >Avaliação da Plataforma</th>\n",
              "      <td id=\"T_5251e_row0_col0\" class=\"data row0 col0\" >Bom</td>\n",
              "      <td id=\"T_5251e_row0_col1\" class=\"data row0 col1\" >Excelente</td>\n",
              "      <td id=\"T_5251e_row0_col2\" class=\"data row0 col2\" >Excelente</td>\n",
              "      <td id=\"T_5251e_row0_col3\" class=\"data row0 col3\" >Bom</td>\n",
              "      <td id=\"T_5251e_row0_col4\" class=\"data row0 col4\" >Ruim</td>\n",
              "      <td id=\"T_5251e_row0_col5\" class=\"data row0 col5\" >Otimo</td>\n",
              "      <td id=\"T_5251e_row0_col6\" class=\"data row0 col6\" >Excelente</td>\n",
              "      <td id=\"T_5251e_row0_col7\" class=\"data row0 col7\" >Ótimo</td>\n",
              "    </tr>\n",
              "    <tr>\n",
              "      <th id=\"T_5251e_level0_row1\" class=\"row_heading level0 row1\" >Compartilhamentos</th>\n",
              "      <td id=\"T_5251e_row1_col0\" class=\"data row1 col0\" >50</td>\n",
              "      <td id=\"T_5251e_row1_col1\" class=\"data row1 col1\" >25</td>\n",
              "      <td id=\"T_5251e_row1_col2\" class=\"data row1 col2\" >30</td>\n",
              "      <td id=\"T_5251e_row1_col3\" class=\"data row1 col3\" >1500</td>\n",
              "      <td id=\"T_5251e_row1_col4\" class=\"data row1 col4\" >2</td>\n",
              "      <td id=\"T_5251e_row1_col5\" class=\"data row1 col5\" >500</td>\n",
              "      <td id=\"T_5251e_row1_col6\" class=\"data row1 col6\" >100</td>\n",
              "      <td id=\"T_5251e_row1_col7\" class=\"data row1 col7\" >7500</td>\n",
              "    </tr>\n",
              "    <tr>\n",
              "      <th id=\"T_5251e_level0_row2\" class=\"row_heading level0 row2\" >Conteúdo</th>\n",
              "      <td id=\"T_5251e_row2_col0\" class=\"data row2 col0\" >Jogos</td>\n",
              "      <td id=\"T_5251e_row2_col1\" class=\"data row2 col1\" >Desafio</td>\n",
              "      <td id=\"T_5251e_row2_col2\" class=\"data row2 col2\" >Esportes</td>\n",
              "      <td id=\"T_5251e_row2_col3\" class=\"data row2 col3\" >Dança</td>\n",
              "      <td id=\"T_5251e_row2_col4\" class=\"data row2 col4\" >Política</td>\n",
              "      <td id=\"T_5251e_row2_col5\" class=\"data row2 col5\" >Live</td>\n",
              "      <td id=\"T_5251e_row2_col6\" class=\"data row2 col6\" >Entretenimento</td>\n",
              "      <td id=\"T_5251e_row2_col7\" class=\"data row2 col7\" >Vlogs</td>\n",
              "    </tr>\n",
              "    <tr>\n",
              "      <th id=\"T_5251e_level0_row3\" class=\"row_heading level0 row3\" >Curtidas</th>\n",
              "      <td id=\"T_5251e_row3_col0\" class=\"data row3 col0\" >300</td>\n",
              "      <td id=\"T_5251e_row3_col1\" class=\"data row3 col1\" >150</td>\n",
              "      <td id=\"T_5251e_row3_col2\" class=\"data row3 col2\" >120</td>\n",
              "      <td id=\"T_5251e_row3_col3\" class=\"data row3 col3\" >2000</td>\n",
              "      <td id=\"T_5251e_row3_col4\" class=\"data row3 col4\" >20</td>\n",
              "      <td id=\"T_5251e_row3_col5\" class=\"data row3 col5\" >1200</td>\n",
              "      <td id=\"T_5251e_row3_col6\" class=\"data row3 col6\" >500</td>\n",
              "      <td id=\"T_5251e_row3_col7\" class=\"data row3 col7\" >150000</td>\n",
              "    </tr>\n",
              "    <tr>\n",
              "      <th id=\"T_5251e_level0_row4\" class=\"row_heading level0 row4\" >Plataforma</th>\n",
              "      <td id=\"T_5251e_row4_col0\" class=\"data row4 col0\" >Facebook</td>\n",
              "      <td id=\"T_5251e_row4_col1\" class=\"data row4 col1\" >TikTok</td>\n",
              "      <td id=\"T_5251e_row4_col2\" class=\"data row4 col2\" >Twitter</td>\n",
              "      <td id=\"T_5251e_row4_col3\" class=\"data row4 col3\" >TikTok</td>\n",
              "      <td id=\"T_5251e_row4_col4\" class=\"data row4 col4\" >Twitter</td>\n",
              "      <td id=\"T_5251e_row4_col5\" class=\"data row4 col5\" >Instagram</td>\n",
              "      <td id=\"T_5251e_row4_col6\" class=\"data row4 col6\" >Facebook</td>\n",
              "      <td id=\"T_5251e_row4_col7\" class=\"data row4 col7\" >YouTube</td>\n",
              "    </tr>\n",
              "  </tbody>\n",
              "</table>\n"
            ]
          },
          "metadata": {}
        }
      ]
    },
    {
      "cell_type": "code",
      "source": [
        "# 9. Apresente em tela somente a 1ª e a 2ª coluna (rótulo) da base de dados.\n",
        "\n",
        "df_subset = df.iloc[:, :2]\n",
        "\n",
        "styled_df = df_subset.style.set_properties(**{'text-align': 'center'})\n",
        "display(styled_df)"
      ],
      "metadata": {
        "colab": {
          "base_uri": "https://localhost:8080/",
          "height": 300
        },
        "id": "-HFgL0qR2lnT",
        "outputId": "85f2a95a-7789-49ea-9a5f-48478fada5b7"
      },
      "execution_count": null,
      "outputs": [
        {
          "output_type": "display_data",
          "data": {
            "text/plain": [
              "<pandas.io.formats.style.Styler at 0x78e7702bf700>"
            ],
            "text/html": [
              "<style type=\"text/css\">\n",
              "#T_6c942_row0_col0, #T_6c942_row0_col1, #T_6c942_row1_col0, #T_6c942_row1_col1, #T_6c942_row2_col0, #T_6c942_row2_col1, #T_6c942_row3_col0, #T_6c942_row3_col1, #T_6c942_row4_col0, #T_6c942_row4_col1, #T_6c942_row5_col0, #T_6c942_row5_col1, #T_6c942_row6_col0, #T_6c942_row6_col1, #T_6c942_row7_col0, #T_6c942_row7_col1 {\n",
              "  text-align: center;\n",
              "}\n",
              "</style>\n",
              "<table id=\"T_6c942\" class=\"dataframe\">\n",
              "  <thead>\n",
              "    <tr>\n",
              "      <th class=\"blank level0\" >&nbsp;</th>\n",
              "      <th id=\"T_6c942_level0_col0\" class=\"col_heading level0 col0\" >Usuário</th>\n",
              "      <th id=\"T_6c942_level0_col1\" class=\"col_heading level0 col1\" >Plataforma</th>\n",
              "    </tr>\n",
              "  </thead>\n",
              "  <tbody>\n",
              "    <tr>\n",
              "      <th id=\"T_6c942_level0_row0\" class=\"row_heading level0 row0\" >0</th>\n",
              "      <td id=\"T_6c942_row0_col0\" class=\"data row0 col0\" >João</td>\n",
              "      <td id=\"T_6c942_row0_col1\" class=\"data row0 col1\" >Twitter</td>\n",
              "    </tr>\n",
              "    <tr>\n",
              "      <th id=\"T_6c942_level0_row1\" class=\"row_heading level0 row1\" >1</th>\n",
              "      <td id=\"T_6c942_row1_col0\" class=\"data row1 col0\" >Andressa</td>\n",
              "      <td id=\"T_6c942_row1_col1\" class=\"data row1 col1\" >Facebook</td>\n",
              "    </tr>\n",
              "    <tr>\n",
              "      <th id=\"T_6c942_level0_row2\" class=\"row_heading level0 row2\" >2</th>\n",
              "      <td id=\"T_6c942_row2_col0\" class=\"data row2 col0\" >Henrique</td>\n",
              "      <td id=\"T_6c942_row2_col1\" class=\"data row2 col1\" >TikTok</td>\n",
              "    </tr>\n",
              "    <tr>\n",
              "      <th id=\"T_6c942_level0_row3\" class=\"row_heading level0 row3\" >3</th>\n",
              "      <td id=\"T_6c942_row3_col0\" class=\"data row3 col0\" >Maria Luiza</td>\n",
              "      <td id=\"T_6c942_row3_col1\" class=\"data row3 col1\" >Twitter</td>\n",
              "    </tr>\n",
              "    <tr>\n",
              "      <th id=\"T_6c942_level0_row4\" class=\"row_heading level0 row4\" >4</th>\n",
              "      <td id=\"T_6c942_row4_col0\" class=\"data row4 col0\" >Renan</td>\n",
              "      <td id=\"T_6c942_row4_col1\" class=\"data row4 col1\" >Facebook</td>\n",
              "    </tr>\n",
              "    <tr>\n",
              "      <th id=\"T_6c942_level0_row5\" class=\"row_heading level0 row5\" >5</th>\n",
              "      <td id=\"T_6c942_row5_col0\" class=\"data row5 col0\" >Laura Martins</td>\n",
              "      <td id=\"T_6c942_row5_col1\" class=\"data row5 col1\" >TikTok</td>\n",
              "    </tr>\n",
              "    <tr>\n",
              "      <th id=\"T_6c942_level0_row6\" class=\"row_heading level0 row6\" >6</th>\n",
              "      <td id=\"T_6c942_row6_col0\" class=\"data row6 col0\" >Pedro</td>\n",
              "      <td id=\"T_6c942_row6_col1\" class=\"data row6 col1\" >Instagram</td>\n",
              "    </tr>\n",
              "    <tr>\n",
              "      <th id=\"T_6c942_level0_row7\" class=\"row_heading level0 row7\" >7</th>\n",
              "      <td id=\"T_6c942_row7_col0\" class=\"data row7 col0\" >Thiago Reis</td>\n",
              "      <td id=\"T_6c942_row7_col1\" class=\"data row7 col1\" >YouTube</td>\n",
              "    </tr>\n",
              "  </tbody>\n",
              "</table>\n"
            ]
          },
          "metadata": {}
        }
      ]
    }
  ]
}